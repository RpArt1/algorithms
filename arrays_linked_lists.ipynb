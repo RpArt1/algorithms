{
 "cells": [
  {
   "cell_type": "markdown",
   "metadata": {},
   "source": [
    "#### Array ( in python list)\n",
    "- every element is in next memory slot \n",
    "- when adding to it new memory region is searched and array is moved there \n",
    "- reserve space for array can be partial solution  \n",
    "- access to each element is instant - so irregular searches are good \n",
    "\n",
    "- Use cases :\n",
    "    - where order matter - they maintain order\n",
    "    - where elements are accessed one by one, especially if accessing by index\n",
    "    - when size needs to be dynamic → they resize easily\n",
    "    - if only the element values are needed → then simpler than dictionaries\n",
    "\n",
    "- When not to:\n",
    "    - Frequent Searches → why? : check operations complexity for search\n",
    "    - Frequent Deletion/Insertion (except end) → why? check check operations complexity for insert / remove and section modifining elements in random place\n",
    "- Operations complexity\n",
    "    - Access by index: 𝑂(1)\n",
    "    - Append to end: O(1)\n",
    "    - Insert/remove (arbitrary position): 𝑂(𝑛)\n",
    "    - Search: O(n)\n",
    "- searching in list:\n",
    "    - finding an element requires scanning each item one by one until the target is found\n",
    "    - its linear search has an average complexity of O(n)\n",
    "\n",
    "\n",
    "#### Linked List \n",
    "- every element but last has indication to next element ( to memory slot in which that element is placed )\n",
    "    - so to access 10th elements all previous ones will be red   \n",
    "- good when reading are done on all elements at once \n",
    "- irregular search for elements will be slow \n",
    "\n",
    "\n",
    "\n",
    "\n",
    "#### modifining elements in random place\n",
    "array: all following elements needs to be moved, also whole array might be moved to different memory slot \n",
    "linked list: pointer of previous element needs to be swithced to new element and new element should point to following element \n",
    "\n",
    "removing elements is simmilar array: move following elements back, list update pointer "
   ]
  },
  {
   "cell_type": "markdown",
   "metadata": {},
   "source": [
    "## Most common operations on list"
   ]
  },
  {
   "cell_type": "code",
   "execution_count": 1,
   "metadata": {},
   "outputs": [
    {
     "ename": "ValueError",
     "evalue": "list.remove(x): x not in list",
     "output_type": "error",
     "traceback": [
      "\u001b[0;31m---------------------------------------------------------------------------\u001b[0m",
      "\u001b[0;31mValueError\u001b[0m                                Traceback (most recent call last)",
      "Cell \u001b[0;32mIn[1], line 13\u001b[0m\n\u001b[1;32m     11\u001b[0m my_list\u001b[38;5;241m.\u001b[39mpop()             \u001b[38;5;66;03m# Remove & return last item \u001b[39;00m\n\u001b[1;32m     12\u001b[0m my_list\u001b[38;5;241m.\u001b[39mpop(\u001b[38;5;241m1\u001b[39m)            \u001b[38;5;66;03m# Remove & return item at index\u001b[39;00m\n\u001b[0;32m---> 13\u001b[0m \u001b[43mmy_list\u001b[49m\u001b[38;5;241;43m.\u001b[39;49m\u001b[43mremove\u001b[49m\u001b[43m(\u001b[49m\u001b[38;5;241;43m3\u001b[39;49m\u001b[43m)\u001b[49m         \u001b[38;5;66;03m# Remove first occurrence of value\u001b[39;00m\n\u001b[1;32m     14\u001b[0m \u001b[38;5;28;01mdel\u001b[39;00m my_list[\u001b[38;5;241m1\u001b[39m]            \u001b[38;5;66;03m# Remove item at index\u001b[39;00m\n\u001b[1;32m     15\u001b[0m my_list\u001b[38;5;241m.\u001b[39mclear()           \u001b[38;5;66;03m# Remove all items\u001b[39;00m\n",
      "\u001b[0;31mValueError\u001b[0m: list.remove(x): x not in list"
     ]
    }
   ],
   "source": [
    "# Creating\n",
    "my_list = [1, 2, 3]\n",
    "my_list = list()\n",
    "\n",
    "# Adding elements\n",
    "my_list.append(4)         # Add to end: [1, 2, 3, 4]\n",
    "my_list.insert(1, 5)      # Insert at index: [1, 5, 2, 3, 4]\n",
    "my_list.extend([6, 7])    # Add multiple: [1, 5, 2, 3, 4, 6, 7]\n",
    "\n",
    "# Removing elements\n",
    "my_list.pop()             # Remove & return last item \n",
    "my_list.pop(1)            # Remove & return item at index\n",
    "my_list.remove(3)         # Remove first occurrence of value\n",
    "del my_list[1]            # Remove item at index\n",
    "my_list.clear()           # Remove all items\n",
    "\n",
    "# Access & Search\n",
    "element = my_list[0]      # Get first element\n",
    "last = my_list[-1]        # Get last element\n",
    "index = my_list.index(3)  # Find index of value\n",
    "count = my_list.count(2)  # Count occurrences\n",
    "\n",
    "# Other common operations\n",
    "length = len(my_list)     # Get length\n",
    "my_list.sort()            # Sort in place\n",
    "my_list.reverse()         # Reverse in place\n",
    "new_list = sorted(my_list)# Return sorted copy\n",
    "\n",
    "print(new_list)"
   ]
  },
  {
   "cell_type": "markdown",
   "metadata": {},
   "source": [
    "## Most common opeations on dictionaries "
   ]
  },
  {
   "cell_type": "code",
   "execution_count": null,
   "metadata": {},
   "outputs": [],
   "source": []
  }
 ],
 "metadata": {
  "kernelspec": {
   "display_name": ".venv",
   "language": "python",
   "name": "python3"
  },
  "language_info": {
   "codemirror_mode": {
    "name": "ipython",
    "version": 3
   },
   "file_extension": ".py",
   "mimetype": "text/x-python",
   "name": "python",
   "nbconvert_exporter": "python",
   "pygments_lexer": "ipython3",
   "version": "3.12.7"
  }
 },
 "nbformat": 4,
 "nbformat_minor": 2
}
