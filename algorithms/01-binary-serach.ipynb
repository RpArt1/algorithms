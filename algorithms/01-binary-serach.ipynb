{
 "cells": [
  {
   "cell_type": "markdown",
   "metadata": {},
   "source": [
    "# Binary search\n",
    "\n",
    "- its algorithm \n",
    "- entry arg. is sorted list \n",
    "- involves guessing the middle number with the aim of eliminating half of the remaining numbers on each try.\n",
    "## comparison \n",
    "search of x in n element array \n",
    "simple search => n tries to find in worst case \n",
    "binary search => log2n "
   ]
  },
  {
   "cell_type": "code",
   "execution_count": 31,
   "metadata": {},
   "outputs": [
    {
     "name": "stdout",
     "output_type": "stream",
     "text": [
      "------EVEN------\n",
      "max tries to find element = 3.0\n",
      "elements size  = 8\n",
      "middle_pos = 3\n",
      "elements size  = 3\n",
      "middle_pos = 0\n",
      "elements size  = 3\n",
      "middle_pos = 0\n",
      "elements size  = 3\n",
      "middle_pos = 0\n",
      "------EVEN------\n",
      "max tries to find element = 3.169925001442312\n",
      "elements size  = 9\n",
      "middle_pos = 3\n",
      "elements size  = 9\n",
      "middle_pos = 3\n",
      "elements size  = 9\n",
      "middle_pos = 3\n",
      "elements size  = 9\n",
      "middle_pos = 3\n"
     ]
    }
   ],
   "source": [
    "import math \n",
    "def do_binary_search(x, elements):\n",
    "    postion_of_x = None\n",
    "    max_tries = math.log2(len(elements) )\n",
    "    print(f\"max tries to find element = {max_tries}\")\n",
    "    iter = 0 \n",
    "    low = 0 \n",
    "    while iter <= max_tries : \n",
    "        elements_size = len(elements) \n",
    "        print(f\"elements size  = {elements_size}\")\n",
    "        mid = elements_size // 2 -1 \n",
    "        print(f\"middle_pos = {middle_pos}\")\n",
    "\n",
    "        if (x < elements[middle_pos]):\n",
    "            # remove part of array from middle to end \n",
    "            elements = elements[:middle_pos]\n",
    "\n",
    "        iter += 1\n",
    "\n",
    "# even array \n",
    "print (\"------EVEN------\")\n",
    "do_binary_search(1111,[1111, 2222, 3333 , 4444, 5555,6666, 7777,8888])\n",
    "\n",
    "print (\"------EVEN------\")\n",
    "do_binary_search(6666,[1111, 2222, 3333 , 4444, 5555,6666, 7777,8888, 9999])\n",
    "\n"
   ]
  },
  {
   "cell_type": "markdown",
   "metadata": {},
   "source": [
    "czy 6666 jest większa od największej "
   ]
  }
 ],
 "metadata": {
  "kernelspec": {
   "display_name": "Python 3",
   "language": "python",
   "name": "python3"
  },
  "language_info": {
   "codemirror_mode": {
    "name": "ipython",
    "version": 3
   },
   "file_extension": ".py",
   "mimetype": "text/x-python",
   "name": "python",
   "nbconvert_exporter": "python",
   "pygments_lexer": "ipython3",
   "version": "3.12.3"
  }
 },
 "nbformat": 4,
 "nbformat_minor": 2
}
