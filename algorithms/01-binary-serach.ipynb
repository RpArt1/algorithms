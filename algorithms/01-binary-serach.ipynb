{
 "cells": [
  {
   "cell_type": "markdown",
   "metadata": {},
   "source": [
    "# Binary search\n",
    "\n",
    "- its algorithm that is very good against sorted lists ( in comparison to linear search)\n",
    "- if not sorted it needs to assessed beacuse sorting is v. costly\n",
    "- involves guessing the middle number with the aim of eliminating half of the remaining numbers on each try.\n",
    "#### searching comparison \n",
    "search of x in n element array \n",
    "simple search => n tries to find in worst case , notation O(n)\n",
    "binary search => log2n ( its called logarithmic execution time) Notation O(log n)"
   ]
  },
  {
   "cell_type": "code",
   "execution_count": 12,
   "metadata": {},
   "outputs": [
    {
     "name": "stdout",
     "output_type": "stream",
     "text": [
      "------EVEN------\n",
      "max tries to find element = 3.700439718141092\n",
      "Mid index = 6\n",
      "Not found:  new range 7 and 12\n",
      "Mid index = 9\n",
      "Not found:  new range 10 and 12\n",
      "Mid index = 11\n",
      "Not found:  new range 10 and 10\n",
      "Mid index = 10\n",
      "Found number, index = 10\n"
     ]
    }
   ],
   "source": [
    "import math \n",
    "def do_binary_search(x, elements):\n",
    "    postion_of_x = None\n",
    "    max_tries = math.log2(len(elements) )\n",
    "    print(f\"max tries to find element = {max_tries}\")\n",
    "    iter = 0 \n",
    "    low_index = 0 \n",
    "    high_index = len(elements) - 1\n",
    "    \n",
    "    while low_index <= high_index : \n",
    "        \n",
    "        mid_index = ( high_index + low_index ) // 2 \n",
    "        print(f\"Mid index = {mid_index}\" )\n",
    "        \n",
    "        mid_value = elements[mid_index]\n",
    "        \n",
    "        if mid_value == x:\n",
    "            print(f\"Found number, index = {mid_index}\" )\n",
    "            return mid_index\n",
    "        elif mid_value < x : \n",
    "            low_index = mid_index +1\n",
    "            print(f\"Not found:  new range {low_index} and {high_index}\" )\n",
    "        else:\n",
    "            high_index = mid_index -1\n",
    "            print(f\"Not found:  new range {low_index} and {high_index}\" )\n",
    "\n",
    "        iter += 1\n",
    "\n",
    "# even array \n",
    "print (\"------EVEN------\")\n",
    "result = do_binary_search(10001,[1111, 2222, 3333 , 4444, 5555,6666, 7777,8888, 9999, 10000 ,10001, 10002, 10003 ])\n",
    "\n",
    "\n",
    "# print (\"------ODD------\")\n",
    "# do_binary_search(6666,[1111, 2222, 3333 , 4444, 5555,6666, 7777,8888, 9999])\n",
    "\n"
   ]
  },
  {
   "cell_type": "markdown",
   "metadata": {},
   "source": [
    "czy 6666 jest większa od największej "
   ]
  }
 ],
 "metadata": {
  "kernelspec": {
   "display_name": ".venv",
   "language": "python",
   "name": "python3"
  },
  "language_info": {
   "codemirror_mode": {
    "name": "ipython",
    "version": 3
   },
   "file_extension": ".py",
   "mimetype": "text/x-python",
   "name": "python",
   "nbconvert_exporter": "python",
   "pygments_lexer": "ipython3",
   "version": "3.12.7"
  }
 },
 "nbformat": 4,
 "nbformat_minor": 2
}
