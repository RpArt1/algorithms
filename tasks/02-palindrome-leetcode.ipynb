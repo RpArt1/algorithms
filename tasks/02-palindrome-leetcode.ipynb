{
 "cells": [
  {
   "cell_type": "markdown",
   "metadata": {},
   "source": [
    "https://leetcode.com/problems/palindrome-number/\n",
    "\n",
    "in Python\n",
    "three distinct numeric types: integers, floating-point numbers, and complex numbers\n",
    "Boolean is subtype of integer\n",
    "https://docs.python.org/3/library/stdtypes.html#numeric-types-int-float-complex\n"
   ]
  },
  {
   "cell_type": "markdown",
   "metadata": {},
   "source": [
    "## Best solution \n",
    "\n",
    "- verify first if number is negative or ends with 0 ( and is not zero ) => those are numbers that won't be palindrome \n"
   ]
  },
  {
   "cell_type": "code",
   "execution_count": 13,
   "metadata": {},
   "outputs": [
    {
     "name": "stdout",
     "output_type": "stream",
     "text": [
      "reversed number = 0\n",
      "new x  = 122121\n",
      "reversed number = 1\n",
      "new x  = 12212\n",
      "reversed number = 12\n",
      "new x  = 1221\n",
      "reversed number = 121\n",
      "new x  = 122\n",
      "reversed number = 1212\n",
      "new x  = 12\n",
      "reversed number = 12122\n",
      "new x  = 1\n",
      "reversed   = 121221\n"
     ]
    }
   ],
   "source": [
    "def calculate_rev(x):\n",
    "    if x <0 or (x % 10 == 0 and x != 0):\n",
    "        return False\n",
    "    \n",
    "    reversed = 0 \n",
    "    iter = 0 \n",
    "    while x >= 10:         \n",
    "        reversed = reversed * 10 +  x % 10\n",
    "   \n",
    "        print(f\"reversed number = {reversed}\")\n",
    "\n",
    "        x = x // 10 \n",
    "        print(f\"new x  = {x}\")\n",
    "        iter = iter + 1\n",
    "\n",
    "    reversed = reversed * 10 + x\n",
    "    print(f\"reversed   = {reversed}\")\n",
    "\n",
    "                \n",
    "calculate_rev(1221210)"
   ]
  },
  {
   "cell_type": "markdown",
   "metadata": {},
   "source": [
    "## My solution\n",
    "- working ok\n",
    "- slow and inefficient "
   ]
  },
  {
   "cell_type": "code",
   "execution_count": 61,
   "metadata": {},
   "outputs": [
    {
     "name": "stdout",
     "output_type": "stream",
     "text": [
      "whole=1.0, frac=0.0\n",
      "[1, 0]\n",
      "[0, 1]\n",
      "False\n"
     ]
    },
    {
     "data": {
      "text/plain": [
       "False"
      ]
     },
     "execution_count": 61,
     "metadata": {},
     "output_type": "execute_result"
    }
   ],
   "source": [
    "import math \n",
    "def isPalindrome(x):\n",
    "    \"\"\"\n",
    "    :type x: int\n",
    "    :rtype: bool\n",
    "    \"\"\"\n",
    "    rev_num_array = []\n",
    "    if x<0:\n",
    "        return False\n",
    "    whole = x \n",
    "    while abs(whole) >= 10: \n",
    "        to_count = whole /10 \n",
    "        frac,whole = math.modf(to_count)\n",
    "        math.ceil(2.12)\n",
    "        print(f\"whole={whole}, frac={round(frac,2)}\")\n",
    "        rev_num_array.append(round(round(frac,2)*10))\n",
    "\n",
    "    rev_num_array.append(round(whole))\n",
    "    num_array = rev_num_array[::-1]\n",
    "    print(num_array)\n",
    "    print(rev_num_array)\n",
    "    print(num_array == rev_num_array)\n",
    "    return num_array == rev_num_array\n",
    "\n",
    "\n",
    "\n",
    "isPalindrome(10)"
   ]
  }
 ],
 "metadata": {
  "kernelspec": {
   "display_name": "Python 3",
   "language": "python",
   "name": "python3"
  },
  "language_info": {
   "codemirror_mode": {
    "name": "ipython",
    "version": 3
   },
   "file_extension": ".py",
   "mimetype": "text/x-python",
   "name": "python",
   "nbconvert_exporter": "python",
   "pygments_lexer": "ipython3",
   "version": "3.12.3"
  }
 },
 "nbformat": 4,
 "nbformat_minor": 2
}
