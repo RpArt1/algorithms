{
 "cells": [
  {
   "cell_type": "markdown",
   "metadata": {},
   "source": [
    "# Best solution\n",
    "- complexity is the smolest leveraging dictionaries capablities \n",
    "\n",
    "- during one iteration it \n",
    "    - adds numbers to dictionary with its index\n",
    "    - checks if the number which we're looking for is already in dict "
   ]
  },
  {
   "cell_type": "code",
   "execution_count": 10,
   "metadata": {},
   "outputs": [
    {
     "data": {
      "text/plain": [
       "[0, 2]"
      ]
     },
     "execution_count": 10,
     "metadata": {},
     "output_type": "execute_result"
    }
   ],
   "source": [
    "class Solution(object):\n",
    "    def twoSum(self, nums, target):\n",
    "        \"\"\"\n",
    "        :type nums: List[int]\n",
    "        :type target: int\n",
    "        :rtype: List[int]\n",
    "        \"\"\"\n",
    "       \n",
    "        num_pos_dict = {}\n",
    "        for i in range (0,len(nums)):\n",
    "            potential_number_2 = target - nums[i]\n",
    "            if potential_number_2 in num_pos_dict:\n",
    "                return [num_pos_dict[potential_number_2], i]\n",
    "            num_pos_dict[nums[i]] = i\n",
    "        return []\n",
    "\n",
    "Solution().twoSum([2,14,4,3], 6)"
   ]
  },
  {
   "cell_type": "markdown",
   "metadata": {},
   "source": []
  }
 ],
 "metadata": {
  "kernelspec": {
   "display_name": ".venv",
   "language": "python",
   "name": "python3"
  },
  "language_info": {
   "codemirror_mode": {
    "name": "ipython",
    "version": 3
   },
   "file_extension": ".py",
   "mimetype": "text/x-python",
   "name": "python",
   "nbconvert_exporter": "python",
   "pygments_lexer": "ipython3",
   "version": "3.12.3"
  }
 },
 "nbformat": 4,
 "nbformat_minor": 2
}
